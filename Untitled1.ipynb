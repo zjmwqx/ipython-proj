{
 "metadata": {
  "name": "",
  "signature": "sha256:cc988a075c613a1e56add1d854244b9ed08b09a22fe6d457dedec1bd550f3a50"
 },
 "nbformat": 3,
 "nbformat_minor": 0,
 "worksheets": []
}