{
 "metadata": {
  "name": "",
  "signature": "sha256:fb84df12c2265113a99b027fc564a9ae80f835589280752234066395ebe6ac6c"
 },
 "nbformat": 3,
 "nbformat_minor": 0,
 "worksheets": [
  {
   "cells": [
    {
     "cell_type": "code",
     "collapsed": false,
     "input": [
      "__author__ = 'Jimin.Zhou'\n",
      "from pyspark import SparkContext\n",
      "from pyspark.serializers import PickleSerializer\n",
      "from pyspark import SparkConf\n",
      "from pyspark.sql import SQLContext\n",
      "import logging\n",
      "from logging.config import fileConfig\n",
      "from datetime import *\n",
      "import traceback\n",
      "import ConfigParser\n",
      "import io\n",
      "import cPickle\n",
      "import sys\n",
      "import pymongo\n",
      "import mysql.connector\n",
      "from scipy.sparse import *\n",
      "from sklearn.feature_extraction.text import CountVectorizer\n",
      "from math import *\n",
      "from numpy import *\n",
      "import re\n",
      "from itertools import chain\n",
      "import pandas as pd\n",
      "import re\n",
      "from collections import defaultdict\n",
      "import itertools\n",
      "from scipy.cluster.hierarchy import *\n",
      "import jieba\n",
      "from scipy.sparse import csr_matrix"
     ],
     "language": "python",
     "metadata": {},
     "outputs": [],
     "prompt_number": 1
    },
    {
     "cell_type": "code",
     "collapsed": false,
     "input": [
      "k = (1,2,3)"
     ],
     "language": "python",
     "metadata": {},
     "outputs": [],
     "prompt_number": 2
    },
    {
     "cell_type": "code",
     "collapsed": false,
     "input": [
      "k"
     ],
     "language": "python",
     "metadata": {},
     "outputs": [
      {
       "metadata": {},
       "output_type": "pyout",
       "prompt_number": 8,
       "text": [
        "(1, 2, 3)"
       ]
      }
     ],
     "prompt_number": 8
    }
   ],
   "metadata": {}
  }
 ]
}